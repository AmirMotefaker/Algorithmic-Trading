{
 "cells": [
  {
   "cell_type": "markdown",
   "id": "5267efdd",
   "metadata": {
    "papermill": {
     "duration": 0.004417,
     "end_time": "2023-08-20T09:21:27.061783",
     "exception": false,
     "start_time": "2023-08-20T09:21:27.057366",
     "status": "completed"
    },
    "tags": []
   },
   "source": [
    "# Introduction\n",
    "\n",
    "- Algorithmic Trading is the use of algorithms in the financial market to make trading decisions. JP Morgan Chase & Co. is one of the businesses that use Algorithmic Trading for investment decisions."
   ]
  },
  {
   "cell_type": "markdown",
   "id": "d9d42d67",
   "metadata": {
    "papermill": {
     "duration": 0.002866,
     "end_time": "2023-08-20T09:21:27.067990",
     "exception": false,
     "start_time": "2023-08-20T09:21:27.065124",
     "status": "completed"
    },
    "tags": []
   },
   "source": [
    "# What is Algorithmic Trading?\n",
    "\n",
    "- Algorithmic Trading means using algorithms in buying and selling decisions in the financial market. In an algorithmic trading strategy, a set of predefined rules are used to determine when to buy a financial instrument and when to sell it.\n",
    "\n",
    "- In simple words, Algorithmic Trading is a way of buying and selling automatically and efficiently, which is always better than trading manually."
   ]
  },
  {
   "cell_type": "markdown",
   "id": "74f6ceee",
   "metadata": {
    "papermill": {
     "duration": 0.004294,
     "end_time": "2023-08-20T09:21:27.075711",
     "exception": false,
     "start_time": "2023-08-20T09:21:27.071417",
     "status": "completed"
    },
    "tags": []
   },
   "source": [
    "# Momentum investing\n",
    "\n",
    "- Momentum investing is a system of buying stocks or other securities that have had high returns over the past three to twelve months, and selling those that have had poor returns over the same period.\n",
    "\n",
    "- While momentum investing is well-established as a phenomenon no consensus exists about the explanation for this strategy, and economists have trouble reconciling momentum with the efficient market hypothesis and random walk hypothesis. Two main hypotheses have been submitted to explain the momentum effect in terms of an efficient market. In the first, it is assumed that momentum investors bear significant risk for assuming this strategy, and, therefore, the high returns are a compensation for the risk.Momentum strategies often involve disproportionately trading in stocks with high bid-ask spreads and so it is important to take transactions costs into account when evaluating momentum profitability.The second theory assumes that momentum investors are exploiting behavioral shortcomings in other investors, such as investor herding, investor over- and underreaction, disposition effects and confirmation bias.\n",
    "\n",
    "- Seasonal or calendar effects may help to explain some of the reason for success in the momentum investing strategy. If a stock has performed poorly for months leading up to the end of the year, investors may decide to sell their holdings for tax purposes causing for example the January effect. Increased supply of shares in the market drive its price down, causing others to sell. Once the reason for tax selling is eliminated, the stock's price tends to recover.\n",
    "\n",
    "### [wikipedia](https://en.wikipedia.org/wiki/Momentum_investing)"
   ]
  },
  {
   "cell_type": "markdown",
   "id": "01beb455",
   "metadata": {
    "papermill": {
     "duration": 0.002887,
     "end_time": "2023-08-20T09:21:27.081722",
     "exception": false,
     "start_time": "2023-08-20T09:21:27.078835",
     "status": "completed"
    },
    "tags": []
   },
   "source": [
    "# Get Stock Price Data\n",
    "\n",
    "- Yahoo Finance is one of the most popular websites to collect stock price data. You need to visit the website, enter the company’s name or stock symbol, and you can easily download the dataset. But if you want to get the latest dataset every time you are running your code, you need to use the yfinance API. yfinance is an API provided by Yahoo Finance to collect the latest stock price data.\n",
    "\n",
    "- To use this API, you need to install it by using the pip command in your terminal or command prompt as mentioned below:\n",
    "\n",
    "    - pip install yfinance"
   ]
  },
  {
   "cell_type": "code",
   "execution_count": 1,
   "id": "dd6aa491",
   "metadata": {
    "execution": {
     "iopub.execute_input": "2023-08-20T09:21:27.089800Z",
     "iopub.status.busy": "2023-08-20T09:21:27.089292Z",
     "iopub.status.idle": "2023-08-20T09:21:40.954138Z",
     "shell.execute_reply": "2023-08-20T09:21:40.952552Z"
    },
    "papermill": {
     "duration": 13.871915,
     "end_time": "2023-08-20T09:21:40.956659",
     "exception": false,
     "start_time": "2023-08-20T09:21:27.084744",
     "status": "completed"
    },
    "tags": []
   },
   "outputs": [
    {
     "name": "stdout",
     "output_type": "stream",
     "text": [
      "Collecting yfinance\r\n",
      "  Downloading yfinance-0.2.28-py2.py3-none-any.whl (65 kB)\r\n",
      "\u001b[2K     \u001b[90m━━━━━━━━━━━━━━━━━━━━━━━━━━━━━━━━━━━━━━━━\u001b[0m \u001b[32m65.3/65.3 kB\u001b[0m \u001b[31m2.2 MB/s\u001b[0m eta \u001b[36m0:00:00\u001b[0m\r\n",
      "\u001b[?25hRequirement already satisfied: pandas>=1.3.0 in /opt/conda/lib/python3.10/site-packages (from yfinance) (1.5.3)\r\n",
      "Requirement already satisfied: numpy>=1.16.5 in /opt/conda/lib/python3.10/site-packages (from yfinance) (1.23.5)\r\n",
      "Requirement already satisfied: requests>=2.31 in /opt/conda/lib/python3.10/site-packages (from yfinance) (2.31.0)\r\n",
      "Collecting multitasking>=0.0.7 (from yfinance)\r\n",
      "  Downloading multitasking-0.0.11-py3-none-any.whl (8.5 kB)\r\n",
      "Requirement already satisfied: lxml>=4.9.1 in /opt/conda/lib/python3.10/site-packages (from yfinance) (4.9.3)\r\n",
      "Requirement already satisfied: appdirs>=1.4.4 in /opt/conda/lib/python3.10/site-packages (from yfinance) (1.4.4)\r\n",
      "Requirement already satisfied: pytz>=2022.5 in /opt/conda/lib/python3.10/site-packages (from yfinance) (2023.3)\r\n",
      "Requirement already satisfied: frozendict>=2.3.4 in /opt/conda/lib/python3.10/site-packages (from yfinance) (2.3.8)\r\n",
      "Requirement already satisfied: beautifulsoup4>=4.11.1 in /opt/conda/lib/python3.10/site-packages (from yfinance) (4.12.2)\r\n",
      "Requirement already satisfied: html5lib>=1.1 in /opt/conda/lib/python3.10/site-packages (from yfinance) (1.1)\r\n",
      "Requirement already satisfied: soupsieve>1.2 in /opt/conda/lib/python3.10/site-packages (from beautifulsoup4>=4.11.1->yfinance) (2.3.2.post1)\r\n",
      "Requirement already satisfied: six>=1.9 in /opt/conda/lib/python3.10/site-packages (from html5lib>=1.1->yfinance) (1.16.0)\r\n",
      "Requirement already satisfied: webencodings in /opt/conda/lib/python3.10/site-packages (from html5lib>=1.1->yfinance) (0.5.1)\r\n",
      "Requirement already satisfied: python-dateutil>=2.8.1 in /opt/conda/lib/python3.10/site-packages (from pandas>=1.3.0->yfinance) (2.8.2)\r\n",
      "Requirement already satisfied: charset-normalizer<4,>=2 in /opt/conda/lib/python3.10/site-packages (from requests>=2.31->yfinance) (3.1.0)\r\n",
      "Requirement already satisfied: idna<4,>=2.5 in /opt/conda/lib/python3.10/site-packages (from requests>=2.31->yfinance) (3.4)\r\n",
      "Requirement already satisfied: urllib3<3,>=1.21.1 in /opt/conda/lib/python3.10/site-packages (from requests>=2.31->yfinance) (1.26.15)\r\n",
      "Requirement already satisfied: certifi>=2017.4.17 in /opt/conda/lib/python3.10/site-packages (from requests>=2.31->yfinance) (2023.5.7)\r\n",
      "Installing collected packages: multitasking, yfinance\r\n",
      "Successfully installed multitasking-0.0.11 yfinance-0.2.28\r\n",
      "Note: you may need to restart the kernel to use updated packages.\n"
     ]
    }
   ],
   "source": [
    "pip install yfinance"
   ]
  },
  {
   "cell_type": "markdown",
   "id": "b1a293f7",
   "metadata": {
    "papermill": {
     "duration": 0.00351,
     "end_time": "2023-08-20T09:21:40.964145",
     "exception": false,
     "start_time": "2023-08-20T09:21:40.960635",
     "status": "completed"
    },
    "tags": []
   },
   "source": [
    "# Import Libraries"
   ]
  },
  {
   "cell_type": "code",
   "execution_count": 2,
   "id": "52233bf7",
   "metadata": {
    "execution": {
     "iopub.execute_input": "2023-08-20T09:21:40.974140Z",
     "iopub.status.busy": "2023-08-20T09:21:40.973396Z",
     "iopub.status.idle": "2023-08-20T09:21:41.925980Z",
     "shell.execute_reply": "2023-08-20T09:21:41.924729Z"
    },
    "papermill": {
     "duration": 0.960967,
     "end_time": "2023-08-20T09:21:41.928769",
     "exception": false,
     "start_time": "2023-08-20T09:21:40.967802",
     "status": "completed"
    },
    "tags": []
   },
   "outputs": [],
   "source": [
    "import pandas as pd\n",
    "import plotly.graph_objs as go\n",
    "from plotly.subplots import make_subplots\n",
    "import plotly.express as px\n",
    "import yfinance as yf"
   ]
  },
  {
   "cell_type": "markdown",
   "id": "734eab0a",
   "metadata": {
    "papermill": {
     "duration": 0.003427,
     "end_time": "2023-08-20T09:21:41.936080",
     "exception": false,
     "start_time": "2023-08-20T09:21:41.932653",
     "status": "completed"
    },
    "tags": []
   },
   "source": [
    "# Apple's stock data"
   ]
  },
  {
   "cell_type": "code",
   "execution_count": 3,
   "id": "2c2da456",
   "metadata": {
    "execution": {
     "iopub.execute_input": "2023-08-20T09:21:41.945858Z",
     "iopub.status.busy": "2023-08-20T09:21:41.945104Z",
     "iopub.status.idle": "2023-08-20T09:21:42.705577Z",
     "shell.execute_reply": "2023-08-20T09:21:42.704024Z"
    },
    "papermill": {
     "duration": 0.768671,
     "end_time": "2023-08-20T09:21:42.708457",
     "exception": false,
     "start_time": "2023-08-20T09:21:41.939786",
     "status": "completed"
    },
    "tags": []
   },
   "outputs": [
    {
     "name": "stdout",
     "output_type": "stream",
     "text": [
      "                                 Open        High         Low       Close  \\\n",
      "Date                                                                        \n",
      "2022-08-19 00:00:00-04:00  172.009558  172.715377  170.299700  170.508469   \n",
      "2022-08-22 00:00:00-04:00  168.689264  168.858260  166.154300  166.581772   \n",
      "2022-08-23 00:00:00-04:00  166.094650  167.715042  165.667178  166.243759   \n",
      "2022-08-24 00:00:00-04:00  166.333254  167.118589  165.269557  166.542007   \n",
      "2022-08-25 00:00:00-04:00  167.784654  169.136635  167.357197  169.027283   \n",
      "\n",
      "                             Volume  Dividends  Stock Splits  \n",
      "Date                                                          \n",
      "2022-08-19 00:00:00-04:00  70346300        0.0           0.0  \n",
      "2022-08-22 00:00:00-04:00  69026800        0.0           0.0  \n",
      "2022-08-23 00:00:00-04:00  54147100        0.0           0.0  \n",
      "2022-08-24 00:00:00-04:00  53841500        0.0           0.0  \n",
      "2022-08-25 00:00:00-04:00  51218200        0.0           0.0  \n"
     ]
    }
   ],
   "source": [
    "# Get Apple's stock data from yahoo finance\n",
    "stock = yf.Ticker(\"AAPL\")\n",
    "data = stock.history(period=\"1y\")\n",
    "print(data.head())"
   ]
  },
  {
   "cell_type": "markdown",
   "id": "c7989c3a",
   "metadata": {
    "papermill": {
     "duration": 0.003673,
     "end_time": "2023-08-20T09:21:42.716377",
     "exception": false,
     "start_time": "2023-08-20T09:21:42.712704",
     "status": "completed"
    },
    "tags": []
   },
   "source": [
    "# Calculation of Momentum"
   ]
  },
  {
   "cell_type": "code",
   "execution_count": 4,
   "id": "446dc1d2",
   "metadata": {
    "execution": {
     "iopub.execute_input": "2023-08-20T09:21:42.726100Z",
     "iopub.status.busy": "2023-08-20T09:21:42.725679Z",
     "iopub.status.idle": "2023-08-20T09:21:42.734636Z",
     "shell.execute_reply": "2023-08-20T09:21:42.733687Z"
    },
    "papermill": {
     "duration": 0.016425,
     "end_time": "2023-08-20T09:21:42.736572",
     "exception": false,
     "start_time": "2023-08-20T09:21:42.720147",
     "status": "completed"
    },
    "tags": []
   },
   "outputs": [],
   "source": [
    "# Calculation of momentum\n",
    "data['momentum'] = data['Close'].pct_change()"
   ]
  }
 ],
 "metadata": {
  "kernelspec": {
   "display_name": "Python 3",
   "language": "python",
   "name": "python3"
  },
  "language_info": {
   "codemirror_mode": {
    "name": "ipython",
    "version": 3
   },
   "file_extension": ".py",
   "mimetype": "text/x-python",
   "name": "python",
   "nbconvert_exporter": "python",
   "pygments_lexer": "ipython3",
   "version": "3.10.12"
  },
  "papermill": {
   "default_parameters": {},
   "duration": 28.380255,
   "end_time": "2023-08-20T09:21:43.865001",
   "environment_variables": {},
   "exception": null,
   "input_path": "__notebook__.ipynb",
   "output_path": "__notebook__.ipynb",
   "parameters": {},
   "start_time": "2023-08-20T09:21:15.484746",
   "version": "2.4.0"
  }
 },
 "nbformat": 4,
 "nbformat_minor": 5
}
