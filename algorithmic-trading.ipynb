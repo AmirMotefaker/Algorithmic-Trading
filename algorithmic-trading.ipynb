{
 "cells": [
  {
   "cell_type": "markdown",
   "id": "3e2516ee",
   "metadata": {
    "papermill": {
     "duration": 0.002085,
     "end_time": "2023-08-20T09:10:26.526965",
     "exception": false,
     "start_time": "2023-08-20T09:10:26.524880",
     "status": "completed"
    },
    "tags": []
   },
   "source": [
    "# Introduction\n",
    "\n",
    "- Algorithmic Trading is the use of algorithms in the financial market to make trading decisions. JP Morgan Chase & Co. is one of the businesses that use Algorithmic Trading for investment decisions."
   ]
  },
  {
   "cell_type": "markdown",
   "id": "bdf51cb4",
   "metadata": {
    "papermill": {
     "duration": 0.001291,
     "end_time": "2023-08-20T09:10:26.530119",
     "exception": false,
     "start_time": "2023-08-20T09:10:26.528828",
     "status": "completed"
    },
    "tags": []
   },
   "source": [
    "# What is Algorithmic Trading?\n",
    "\n",
    "- Algorithmic Trading means using algorithms in buying and selling decisions in the financial market. In an algorithmic trading strategy, a set of predefined rules are used to determine when to buy a financial instrument and when to sell it.\n",
    "\n",
    "- In simple words, Algorithmic Trading is a way of buying and selling automatically and efficiently, which is always better than trading manually."
   ]
  },
  {
   "cell_type": "markdown",
   "id": "988c8102",
   "metadata": {
    "papermill": {
     "duration": 0.001223,
     "end_time": "2023-08-20T09:10:26.532800",
     "exception": false,
     "start_time": "2023-08-20T09:10:26.531577",
     "status": "completed"
    },
    "tags": []
   },
   "source": [
    "# Momentum investing\n",
    "\n",
    "- Momentum investing is a system of buying stocks or other securities that have had high returns over the past three to twelve months, and selling those that have had poor returns over the same period.[1][2]\n",
    "\n",
    "- While momentum investing is well-established as a phenomenon no consensus exists about the explanation for this strategy, and economists have trouble reconciling momentum with the efficient market hypothesis and random walk hypothesis. Two main hypotheses have been submitted to explain the momentum effect in terms of an efficient market. In the first, it is assumed that momentum investors bear significant risk for assuming this strategy, and, therefore, the high returns are a compensation for the risk.[3] Momentum strategies often involve disproportionately trading in stocks with high bid-ask spreads and so it is important to take transactions costs into account when evaluating momentum profitability.[4] The second theory assumes that momentum investors are exploiting behavioral shortcomings in other investors, such as investor herding, investor over- and underreaction, disposition effects and confirmation bias.\n",
    "\n",
    "- Seasonal or calendar effects may help to explain some of the reason for success in the momentum investing strategy. If a stock has performed poorly for months leading up to the end of the year, investors may decide to sell their holdings for tax purposes causing for example the January effect. Increased supply of shares in the market drive its price down, causing others to sell. Once the reason for tax selling is eliminated, the stock's price tends to recover.\n",
    "\n",
    "### [wikipedia](https://en.wikipedia.org/wiki/Momentum_investing)"
   ]
  }
 ],
 "metadata": {
  "kernelspec": {
   "display_name": "Python 3",
   "language": "python",
   "name": "python3"
  },
  "language_info": {
   "codemirror_mode": {
    "name": "ipython",
    "version": 3
   },
   "file_extension": ".py",
   "mimetype": "text/x-python",
   "name": "python",
   "nbconvert_exporter": "python",
   "pygments_lexer": "ipython3",
   "version": "3.10.12"
  },
  "papermill": {
   "default_parameters": {},
   "duration": 10.166255,
   "end_time": "2023-08-20T09:10:27.359306",
   "environment_variables": {},
   "exception": null,
   "input_path": "__notebook__.ipynb",
   "output_path": "__notebook__.ipynb",
   "parameters": {},
   "start_time": "2023-08-20T09:10:17.193051",
   "version": "2.4.0"
  }
 },
 "nbformat": 4,
 "nbformat_minor": 5
}
