{
 "cells": [
  {
   "cell_type": "markdown",
   "id": "cb90bab2",
   "metadata": {
    "papermill": {
     "duration": 0.002317,
     "end_time": "2023-08-20T09:08:58.332192",
     "exception": false,
     "start_time": "2023-08-20T09:08:58.329875",
     "status": "completed"
    },
    "tags": []
   },
   "source": [
    "# Introduction\n",
    "\n",
    "- Algorithmic Trading is the use of algorithms in the financial market to make trading decisions. JP Morgan Chase & Co. is one of the businesses that use Algorithmic Trading for investment decisions."
   ]
  },
  {
   "cell_type": "markdown",
   "id": "467f82bc",
   "metadata": {
    "papermill": {
     "duration": 0.001286,
     "end_time": "2023-08-20T09:08:58.335468",
     "exception": false,
     "start_time": "2023-08-20T09:08:58.334182",
     "status": "completed"
    },
    "tags": []
   },
   "source": [
    "# What is Algorithmic Trading?\n",
    "\n",
    "- Algorithmic Trading means using algorithms in buying and selling decisions in the financial market. In an algorithmic trading strategy, a set of predefined rules are used to determine when to buy a financial instrument and when to sell it.\n",
    "\n",
    "- In simple words, Algorithmic Trading is a way of buying and selling automatically and efficiently, which is always better than trading manually."
   ]
  }
 ],
 "metadata": {
  "kernelspec": {
   "display_name": "Python 3",
   "language": "python",
   "name": "python3"
  },
  "language_info": {
   "codemirror_mode": {
    "name": "ipython",
    "version": 3
   },
   "file_extension": ".py",
   "mimetype": "text/x-python",
   "name": "python",
   "nbconvert_exporter": "python",
   "pygments_lexer": "ipython3",
   "version": "3.10.12"
  },
  "papermill": {
   "default_parameters": {},
   "duration": 12.270973,
   "end_time": "2023-08-20T09:08:59.465842",
   "environment_variables": {},
   "exception": null,
   "input_path": "__notebook__.ipynb",
   "output_path": "__notebook__.ipynb",
   "parameters": {},
   "start_time": "2023-08-20T09:08:47.194869",
   "version": "2.4.0"
  }
 },
 "nbformat": 4,
 "nbformat_minor": 5
}
